{
 "cells": [
  {
   "cell_type": "code",
   "execution_count": null,
   "metadata": {},
   "outputs": [],
   "source": [
    "import sys\n",
    "import logging\n",
    "\n",
    "import numpy as np\n",
    "import scipy as sp\n",
    "# import sklearn\n",
    "# import statsmodels.api as sm\n",
    "# from statsmodels.formula.api import ols\n",
    "\n",
    "%load_ext autoreload\n",
    "%autoreload 2\n",
    "\n",
    "import matplotlib as mpl\n",
    "import matplotlib.pyplot as plt\n",
    "%matplotlib inline\n",
    "%config InlineBackend.figure_format = 'retina'\n",
    "\n",
    "import seaborn as sns\n",
    "sns.set_context(\"poster\")\n",
    "sns.set(rc={'figure.figsize': (16, 9.)})\n",
    "sns.set_style(\"whitegrid\")\n",
    "\n",
    "import pandas as pd\n",
    "pd.set_option(\"display.max_rows\", 120)\n",
    "pd.set_option(\"display.max_columns\", 120)\n",
    "\n",
    "logging.basicConfig(level=logging.INFO, stream=sys.stdout)"
   ]
  },
  {
   "cell_type": "code",
   "execution_count": null,
   "metadata": {},
   "outputs": [],
   "source": [
    "JARS = [\n",
    "    \"com.qubole.spark:spark-sql-kinesis_2.11:1.1.2-spark_2.4\",\n",
    "    \"org.apache.hadoop:hadoop-aws:2.7.7\",\n",
    "    \"com.amazonaws:aws-java-sdk:1.7.4\"\n",
    "]\n",
    "\n",
    "conf = (SparkConf()\n",
    "        .set(\"spark.driver.memory\", \"16g\")\n",
    "        .set(\"spark.executor.memory\", \"16g\")\n",
    "        .set(\"spark.sql.shuffle.partitions\", \"64\")\n",
    "        .set(\"spark.memory.offHeap.enabled\", \"true\")\n",
    "        .set(\"spark.memory.offHeap.size\", \"16g\")\n",
    "        .set(\"spark.jars.packages\", \",\".join(JARS))\n",
    "        .setAppName(\"My Spark Job\"))\n",
    "\n",
    "spark = SparkSession.builder.config(conf=conf).getOrCreate()\n",
    "\n",
    "spark"
   ]
  }
 ],
 "metadata": {
  "kernelspec": {
   "display_name": "Python 3",
   "language": "python",
   "name": "python3"
  },
  "language_info": {
   "codemirror_mode": {
    "name": "ipython",
    "version": 3
   },
   "file_extension": ".py",
   "mimetype": "text/x-python",
   "name": "python",
   "nbconvert_exporter": "python",
   "pygments_lexer": "ipython3",
   "version": "3.7.6"
  }
 },
 "nbformat": 4,
 "nbformat_minor": 4
}
