{
 "cells": [
  {
   "cell_type": "code",
   "execution_count": 1,
   "metadata": {},
   "outputs": [],
   "source": [
    "from pyspark import SparkConf\n",
    "from pyspark.sql import SparkSession\n",
    "from pyspark.sql.types import StructType, StructField, IntegerType\n",
    "\n",
    "conf = (SparkConf()\n",
    "            # dependencies\n",
    "            .set(\"spark.jars.packages\", \"org.apache.hadoop:hadoop-aws:2.7.7,com.amazonaws:aws-java-sdk:1.7.4\")\n",
    "            # implementation\n",
    "            .set(\"spark.hadoop.fs.s3a.impl\", \"org.apache.hadoop.fs.s3a.S3AFileSystem\")\n",
    "            # V4 support\n",
    "            .set(\"spark.executor.extraJavaOptions\", \"-Dcom.amazonaws.services.s3.enableV4=true\")\n",
    "            .set(\"spark.driver.extraJavaOptions\", \"-Dcom.amazonaws.services.s3.enableV4=true\")        \n",
    "            .set(\"spark.hadoop.fs.s3a.endpoint\", \"s3-eu-central-1.amazonaws.com\")\n",
    "            # remaining configuration\n",
    "            .setAppName(\"Working with Amazon S3 on Apache Spark\"))\n",
    "\n",
    "spark = SparkSession.builder.config(conf=conf).getOrCreate()\n",
    "\n",
    "data = [[x, 100 - x] for x in range(0, 101)]\n",
    "\n",
    "schema = StructType([\n",
    "    StructField(\"value\", IntegerType()),\n",
    "    StructField(\"completion\", IntegerType())\n",
    "])\n",
    "\n",
    "S3_PATH = \"s3a://spark-with-s3-frankfurt/data/\"\n",
    "\n",
    "df_w = spark.createDataFrame(data, schema=schema)\n",
    "df_w.write.csv(S3_PATH, mode=\"overwrite\")\n",
    "\n",
    "df_r = spark.read.csv(S3_PATH, schema=schema)\n",
    "\n",
    "are_same = df_w.orderBy(\"value\").collect() == df_r.orderBy(\"value\").collect()"
   ]
  },
  {
   "cell_type": "code",
   "execution_count": 2,
   "metadata": {},
   "outputs": [
    {
     "data": {
      "text/plain": [
       "True"
      ]
     },
     "execution_count": 2,
     "metadata": {},
     "output_type": "execute_result"
    }
   ],
   "source": [
    "are_same"
   ]
  }
 ],
 "metadata": {
  "kernelspec": {
   "display_name": "Python 3",
   "language": "python",
   "name": "python3"
  },
  "language_info": {
   "codemirror_mode": {
    "name": "ipython",
    "version": 3
   },
   "file_extension": ".py",
   "mimetype": "text/x-python",
   "name": "python",
   "nbconvert_exporter": "python",
   "pygments_lexer": "ipython3",
   "version": "3.7.6"
  }
 },
 "nbformat": 4,
 "nbformat_minor": 4
}
